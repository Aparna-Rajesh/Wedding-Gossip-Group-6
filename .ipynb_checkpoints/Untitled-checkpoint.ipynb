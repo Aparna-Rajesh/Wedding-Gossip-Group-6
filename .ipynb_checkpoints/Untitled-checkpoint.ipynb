{
 "cells": [
  {
   "cell_type": "code",
   "execution_count": 4,
   "id": "ac245476",
   "metadata": {},
   "outputs": [],
   "source": [
    "import numpy as np\n",
    "import random"
   ]
  },
  {
   "cell_type": "code",
   "execution_count": 7,
   "id": "1a6b4e93",
   "metadata": {},
   "outputs": [
    {
     "name": "stdout",
     "output_type": "stream",
     "text": [
      "[0, 1, 2, 3, 4, 5, 6, 7, 8, 9, 10, 11, 12, 13, 14, 15, 16, 17, 18, 19, 20, 21, 22, 23, 24, 25, 26, 27, 28, 29, 30, 31, 32, 33, 34, 35, 36, 37, 38, 39, 40, 41, 42, 43, 44, 45, 46, 47, 48, 49, 50, 51, 52, 53, 54, 55, 56, 57, 58, 59, 60, 61, 62, 63, 64, 65, 66, 67, 68, 69, 70, 71, 72, 73, 74, 75, 76, 77, 78, 79, 80, 81, 82, 83, 84, 85, 86, 87, 88, 89, 90, 91, 92, 93, 94, 95, 96, 97, 98, 99]\n",
      "[32, 49, 57, 90, 55, 35, 91, 84, 10, 2, 93, 99, 80, 23, 67, 66, 72, 74, 37, 77, 39, 83, 0, 78, 36, 43, 5, 97, 56, 13, 75, 61, 50, 54, 26, 48, 21, 4, 76, 60, 96, 17, 16, 30, 62, 22, 81, 82, 79, 73, 19, 68, 63, 95, 53, 52, 88, 9, 87, 64, 27, 28, 58, 15, 7, 14, 85, 11, 92, 86, 59, 18, 98, 70, 89, 20, 29, 31, 71, 6, 38, 46, 1, 24, 25, 40, 8, 69, 41, 45]\n",
      "90\n"
     ]
    }
   ],
   "source": [
    "total_seats = list(range(100))\n",
    "print(total_seats)\n",
    "\n",
    "assigned_seats = random.sample(total_seats, 90)\n",
    "print(assigned_seats)"
   ]
  },
  {
   "cell_type": "code",
   "execution_count": 11,
   "id": "10ef456b",
   "metadata": {},
   "outputs": [
    {
     "name": "stdout",
     "output_type": "stream",
     "text": [
      "[[-1, -1], [-1, -1], [-1, -1], [-1, -1], [-1, -1], [-1, -1], [-1, -1], [-1, -1], [-1, -1], [-1, -1]]\n"
     ]
    }
   ],
   "source": [
    "arr = [[-1, -1]] * 10\n",
    "print(arr)"
   ]
  },
  {
   "cell_type": "code",
   "execution_count": 14,
   "id": "35b3d990",
   "metadata": {},
   "outputs": [
    {
     "name": "stdout",
     "output_type": "stream",
     "text": [
      "[1, 2, 3, 4, 5, 6, 7, 8, 9, 10, 11, 12, 13, 14, 15, 16, 17, 18, 19, 20, 21, 22, 23, 24, 25, 26, 27, 28, 29, 30, 31, 32, 33, 34, 35, 36, 37, 38, 39, 40, 41, 42, 43, 44, 45, 46, 47, 48, 49, 50, 51, 52, 53, 54, 55, 56, 57, 58, 59, 60, 61, 62, 63, 64, 65, 66, 67, 68, 69, 70, 71, 72, 73, 74, 75, 76, 77, 78, 79, 80, 81, 82, 83, 84, 85, 86, 87, 88, 89, 90]\n",
      "[37, 26, 46, 1, 33, 61, 75, 76, 67, 60, 80, 48, 68, 16, 11, 47, 64, 66, 88, 70, 40, 65, 4, 42, 83, 44, 53, 87, 71, 2, 59, 54, 23, 79, 19, 74, 81, 22, 29, 85, 52, 14, 8, 63, 28, 72, 69, 90, 89, 6, 78, 24, 86, 18, 39, 57, 55, 36, 12, 27, 34, 38, 10, 84, 77, 82, 31, 50, 30, 51, 21, 5, 17, 58, 13, 25, 43, 62, 49, 45, 7, 32, 3, 56, 35, 73, 9, 41, 20, 15]\n"
     ]
    }
   ],
   "source": [
    "gossips = list(range(1, 91))\n",
    "print(gossips)\n",
    "random.shuffle(gossips)\n",
    "\n",
    "print(gossips)"
   ]
  },
  {
   "cell_type": "code",
   "execution_count": null,
   "id": "1ef088d0",
   "metadata": {},
   "outputs": [],
   "source": []
  }
 ],
 "metadata": {
  "kernelspec": {
   "display_name": "Python 3 (ipykernel)",
   "language": "python",
   "name": "python3"
  },
  "language_info": {
   "codemirror_mode": {
    "name": "ipython",
    "version": 3
   },
   "file_extension": ".py",
   "mimetype": "text/x-python",
   "name": "python",
   "nbconvert_exporter": "python",
   "pygments_lexer": "ipython3",
   "version": "3.11.4"
  }
 },
 "nbformat": 4,
 "nbformat_minor": 5
}
